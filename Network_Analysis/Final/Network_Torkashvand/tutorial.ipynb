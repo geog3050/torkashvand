{
 "cells": [
  {
   "cell_type": "markdown",
   "id": "5a01b716-832d-43e5-9127-2852859f589f",
   "metadata": {},
   "source": [
    "# Exploring trade communities using NetworkX \n",
    "\n",
    "The Packages we use in this tutorial:\n",
    "- Networkx: a Python package for the creation, manipulation, and study of the structure, dynamics, and functions of complex networks. [https://networkx.org/documentation/stable/index.html]\n",
    "- Matplotlib: a comprehensive library for creating static, animated, and interactive visualizations in Python. [https://matplotlib.org/]\n",
    "- GeoPandas: GeoPandas extends the datatypes used by pandas to allow spatial operations on geometric types. [https://geopandas.org/en/stable/]"
   ]
  },
  {
   "cell_type": "markdown",
   "id": "2d1deedd-ca1f-4470-be95-b4d02ad4309e",
   "metadata": {},
   "source": [
    "## Install packages\n",
    "\n",
    "This cell provides the commands necessary to install Python packages we are using in this toturial. If you encounter an error related to any of these packages being missing while running the tutorial, you should uncomment the corresponding installation line and restart the Kernel before rerunning the rest of the code.\n",
    "\n",
    "You might need to uncomment `!pip install Networkx`, `!pip install python-louvain` and `!pip install geopandas`."
   ]
  },
  {
   "cell_type": "code",
   "execution_count": null,
   "id": "a7d87a7a-1ce5-4735-893b-e9d11e30df62",
   "metadata": {},
   "outputs": [],
   "source": [
    "# !pip install networkx\n",
    "# !pip install pandas\n",
    "# !pip install geopandas\n",
    "# !pip install matplotlib\n",
    "# !pip install python-louvain"
   ]
  },
  {
   "cell_type": "markdown",
   "id": "2b39141a-d6f8-42f4-98fe-65acfab3958b",
   "metadata": {},
   "source": [
    "## Import the libraries"
   ]
  },
  {
   "cell_type": "code",
   "execution_count": null,
   "id": "dc921f6d-28c9-4f70-854c-756713c98e04",
   "metadata": {},
   "outputs": [],
   "source": [
    "import pandas as pd\n",
    "import networkx as nx\n",
    "from community import community_louvain\n",
    "import geopandas as gpd\n",
    "import matplotlib.pyplot as plt\n",
    "from matplotlib.patches import Patch #for map legend"
   ]
  },
  {
   "cell_type": "markdown",
   "id": "a7130355",
   "metadata": {},
   "source": [
    "## Take a look at the trade data\n",
    "\n",
    "Before beginning the analysis it is a good practice to examine our data.\n",
    "\n",
    "This code cell is used to load a dataset into a pandas DataFrame and display the first few rows. The dataset is expected to be in CSV format.\n",
    "\n",
    "Replace `@@` with the file path to the 'Trade_Flows_medi_2019.csv' CSV file.\n",
    "\n",
    "We use `.read_csv()` function from the pandas library to read a CSV file and convert it into a DataFrame.\n",
    "We use `.head()` method on a DataFrame to return the first N rows for quick examination of the data. By default, it returns the first 5 rows."
   ]
  },
  {
   "cell_type": "code",
   "execution_count": null,
   "id": "6dc9b0bb",
   "metadata": {},
   "outputs": [],
   "source": [
    "flow_data = pd.read_csv(r'@@')\n",
    "flow_data.head()"
   ]
  },
  {
   "cell_type": "markdown",
   "id": "e92b4cdb",
   "metadata": {},
   "source": [
    "## Create undierected graph\n",
    "\n",
    "Our goal is to extracting communities from flow data. To use community detection algorithm we need to build an undirected graph. Sometimes the flows are directed and we need to aggregate data based on origin and destination columns and summing up another column.\n",
    "\n",
    "Since our data is already aggregated, there is no need to run this code.\n",
    "\n",
    "`groupby()` function is used to group the DataFrame using the specified columns. `agg()` method aggregates grouped data by performing a specified operation, here summing the 'Trade.value.US' column. `reset_index()` method resets the index of the DataFrame, and is often used after grouping to turn grouped indices into columns."
   ]
  },
  {
   "cell_type": "code",
   "execution_count": null,
   "id": "b4d260d8",
   "metadata": {},
   "outputs": [],
   "source": [
    "# agg_flow_data = flow_data.groupby(['Exporter.ISO3', 'Importer.ISO3']).agg({'lTrade.value.US': 'sum'}).reset_index()"
   ]
  },
  {
   "cell_type": "markdown",
   "id": "ed621107",
   "metadata": {},
   "source": [
    "To create a graph (network) first we initialize a directed graph using the NetworkX library and then create edges from a pandas DataFrame.\n",
    "\n",
    "Replace `@@` with the name of the column that represents the exporter, `^^` with the name of the column that represents the importer, and `&&` with the name of the column that represents the trade value in the trade flow DataFrame. In this way we define nodes and egdes of the networks and the weight of edges as an edge attribute.\n",
    "\n",
    "`.Graph()` function creates a new, empty graph. Here it should be noted that if a directed graph is actually required, you should use `nx.DiGraph()` instead to accurately represent directional edges.\n",
    "`.from_pandas_edgelist()`function creates a graph from a pandas DataFrame. The parameters specify the source node column, target node column, and edge attributes."
   ]
  },
  {
   "cell_type": "code",
   "execution_count": null,
   "id": "088fed08",
   "metadata": {},
   "outputs": [],
   "source": [
    "G = nx.Graph()\n",
    "G = nx.from_pandas_edgelist(flow_data, '@@', '^^', edge_attr= '&&')"
   ]
  },
  {
   "cell_type": "markdown",
   "id": "f4378cd0",
   "metadata": {},
   "source": [
    "## Cummunity Detection\n",
    "This code cell is used to detect communities within the graph using the Louvain method, which is a popular algorithm for community detection in large networks.\n",
    "We also calculates the modularity of the detected communities, a measure of the structure of networks or graphs which help us to understand how much our devision of nodes into communities is solid.\n",
    "\n",
    "Louvain community detection Document: [https://python-louvain.readthedocs.io/en/latest/]\n",
    "\n",
    "Replace `@@` with the name of the column that represents the weights in trade network.\n",
    "\n",
    "We use `community_louvain.best_partition()` function from the `community` library that applies the Louvain algorithm to find the best community partition of the graph, using the specified weight attribute.\n",
    "`community_louvain.modularity()` calculates the modularity for the partition and the graph, using the given weight attribute. Higher modularity values indicate stronger community structure."
   ]
  },
  {
   "cell_type": "code",
   "execution_count": null,
   "id": "53e57e3d",
   "metadata": {},
   "outputs": [],
   "source": [
    "partition = community_louvain.best_partition(G, weight= '@@')\n",
    "modularity = community_louvain.modularity(partition, G, weight= '@@')\n",
    "print (f\"The modularity is {modularity}\")"
   ]
  },
  {
   "cell_type": "markdown",
   "id": "1ad8aeaf",
   "metadata": {},
   "source": [
    "`community_louvain.best_partition` function return a dictionary of nodes and partition (community) ids. Let's make a new dataframe that stors the nodes and their assigned community id and take a look at it."
   ]
  },
  {
   "cell_type": "code",
   "execution_count": null,
   "id": "8245ed95",
   "metadata": {},
   "outputs": [],
   "source": [
    "community_df = pd.DataFrame(list(partition.items()), columns=['country', 'Community'])\n",
    "community_df.head()"
   ]
  },
  {
   "cell_type": "markdown",
   "id": "f7763f80",
   "metadata": {},
   "source": [
    "## Visualizing\n",
    "\n",
    "Now we visualize the network graph created earlier, using colors to represent different communities detected in the network. We first extract the 'community' attribute from each node in the graph to use as the color map for visualization. Then visualize the network using the `matplotlib` and `networkx` libraries.\n",
    "\n",
    "`nx.draw_networkx()` Draws the network with nodes and edges. Customizable parameters include node color, node size, and whether labels are shown."
   ]
  },
  {
   "cell_type": "code",
   "execution_count": null,
   "id": "ff1e1646",
   "metadata": {},
   "outputs": [],
   "source": [
    "colors = [node[1]['community'] for node in G.nodes(data=True)]\n",
    "\n",
    "plt.figure(figsize=(10, 8))\n",
    "nx.draw_networkx(G, node_color=colors, node_size=50, with_labels=True)\n",
    "plt.title('Network of Medical Trade Flows between African countries')\n",
    "plt.show()"
   ]
  },
  {
   "cell_type": "markdown",
   "id": "72d256dd",
   "metadata": {},
   "source": [
    "## Mapping the network\n",
    "\n",
    "To map the communitues on their geographycal locations, first we read and loads the African shapefile into a GeoDataFrame using the `geopandas` library, specifically targeting a shapefile that contains geographic data for Africa.\n",
    "\n",
    "Replace `@@` with the path to the `Africa_Boundaries.shp` shapefile.\n",
    "\n",
    "Notice the 'geometry' column. "
   ]
  },
  {
   "cell_type": "code",
   "execution_count": null,
   "id": "7c89c79e",
   "metadata": {},
   "outputs": [],
   "source": [
    "africa_map = gpd.read_file(r'@@')\n",
    "africa_map.head()"
   ]
  },
  {
   "cell_type": "markdown",
   "id": "1400d9e5",
   "metadata": {},
   "source": [
    "### Tabular join\n",
    "Similar to mapping in ArcGIS, here we also join our shapefile and community dataframe and create a `joined_gdf`. \n",
    "\n",
    "We use the 'right join' here base on the context that include all records from africa_map (the right DataFrame) and the matched records from community_df (the left DataFrame). If there are records in africa_map that do not have a corresponding match in community_df, these records will still be included in the resulting joined_gdf DataFrame, but the columns from community_df will contain NaN for these records.\n",
    "\n",
    "Replace `@@` with the column name from `community_df` that corresponds to a geographical identifier that can be linked to the `africa_map`.\n",
    "Replace `^^` with the column name from `africa_map` that matches the geographical identifier from `community_df`."
   ]
  },
  {
   "cell_type": "code",
   "execution_count": null,
   "id": "1aa99626",
   "metadata": {},
   "outputs": [],
   "source": [
    "joined_gdf = gpd.GeoDataFrame(pd.merge(community_df, africa_map, left_on='@@', right_on='^^', how='inner'))\n",
    "joined_gdf.head()"
   ]
  },
  {
   "cell_type": "markdown",
   "id": "80d78a5f",
   "metadata": {},
   "source": [
    "### Plotting Regions\n",
    "\n",
    "First let's simply plot the communities (or now let's call them regions as they are in a geographycal context!), using the 'community' column in 'joined_gdf'."
   ]
  },
  {
   "cell_type": "code",
   "execution_count": null,
   "id": "a4dff70a",
   "metadata": {
    "scrolled": true
   },
   "outputs": [],
   "source": [
    "fig, ax = plt.subplots(1, 1, figsize=(15, 10))\n",
    "joined_gdf.plot(column='community', ax=ax, legend=False)\n",
    "plt.show()"
   ]
  },
  {
   "cell_type": "code",
   "execution_count": null,
   "id": "4f60ea6d",
   "metadata": {},
   "outputs": [],
   "source": [
    "joined_gdf[\"community\"].unique()"
   ]
  },
  {
   "cell_type": "markdown",
   "id": "727f39b0",
   "metadata": {},
   "source": [
    "## Make a better map!\n",
    "\n",
    "The following code cell is a way that I used for defining colors for each region and add more symbology to the map for a better representation based on cartography rules.\n",
    "\n",
    "Guide for selecting color: [https://colorbrewer2.org/#type=sequential&scheme=BuGn&n=3]"
   ]
  },
  {
   "cell_type": "code",
   "execution_count": null,
   "id": "40aeafe1",
   "metadata": {},
   "outputs": [],
   "source": [
    "# Define a dictionary of community id and color\n",
    "color_dict = {0: \"#8dd3c7\", 1: \"#e6f5c9\", 2: \"#bebada\", 3: \"#80b1d3\", 4: \"#fbb4ae\"}\n",
    "\n",
    "# Create a new color column in joined_gdf based on color dict\n",
    "joined_gdf['Color'] = joined_gdf['community'].map(color_dict).fillna(\"white\")\n",
    "\n",
    "#Plot the map, setup symbology and create a legend\n",
    "fig, ax = plt.subplots(figsize=(15, 10))\n",
    "joined_gdf.plot(ax=ax, color=joined_gdf['Color'], edgecolor=\"#8f8c8c\", linewidth=0.5)\n",
    "ax.set_axis_off()\n",
    "ax.set_title('Trade Regions for Medical Services in Africa, 2019', fontsize=18, fontweight=\"bold\", verticalalignment=\"bottom\")\n",
    "\n",
    "\n",
    "legend_labels = [Patch(facecolor=color_dict[key], edgecolor='black', label=key) for key in color_dict]\n",
    "ax.legend(handles=legend_labels, loc=(0.25, 0.18), title='Communities')\n",
    "plt.show()\n"
   ]
  }
 ],
 "metadata": {
  "kernelspec": {
   "display_name": "Python 3 (ipykernel)",
   "language": "python",
   "name": "python3"
  },
  "language_info": {
   "codemirror_mode": {
    "name": "ipython",
    "version": 3
   },
   "file_extension": ".py",
   "mimetype": "text/x-python",
   "name": "python",
   "nbconvert_exporter": "python",
   "pygments_lexer": "ipython3",
   "version": "3.11.7"
  }
 },
 "nbformat": 4,
 "nbformat_minor": 5
}
